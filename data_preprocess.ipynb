{
 "cells": [
  {
   "cell_type": "code",
   "execution_count": 177,
   "metadata": {},
   "outputs": [],
   "source": [
    "# importing required pakcages\n",
    "import pandas as pd\n",
    "from tqdm import tqdm\n",
    "import yaml"
   ]
  },
  {
   "cell_type": "code",
   "execution_count": 178,
   "metadata": {},
   "outputs": [],
   "source": [
    "def read_yaml(file_path):\n",
    "    with open(file_path, \"r\") as f:\n",
    "        return yaml.safe_load(f)\n",
    "\n",
    "ds = read_yaml(file_path = \"configs.yaml\")"
   ]
  },
  {
   "cell_type": "code",
   "execution_count": 179,
   "metadata": {},
   "outputs": [],
   "source": [
    "ds_config = \"AmazonToy\""
   ]
  },
  {
   "cell_type": "code",
   "execution_count": 180,
   "metadata": {},
   "outputs": [],
   "source": [
    "dataset = pd.read_csv(f\"datasets/{ds[ds_config]['ds_name']}/ratings_data.txt\", sep=ds[ds_config]['ds_sep'], names=ds[ds_config]['ds_names'])"
   ]
  },
  {
   "cell_type": "code",
   "execution_count": 181,
   "metadata": {},
   "outputs": [
    {
     "data": {
      "text/html": [
       "<div>\n",
       "<style scoped>\n",
       "    .dataframe tbody tr th:only-of-type {\n",
       "        vertical-align: middle;\n",
       "    }\n",
       "\n",
       "    .dataframe tbody tr th {\n",
       "        vertical-align: top;\n",
       "    }\n",
       "\n",
       "    .dataframe thead th {\n",
       "        text-align: right;\n",
       "    }\n",
       "</style>\n",
       "<table border=\"1\" class=\"dataframe\">\n",
       "  <thead>\n",
       "    <tr style=\"text-align: right;\">\n",
       "      <th></th>\n",
       "      <th>uid</th>\n",
       "      <th>iid</th>\n",
       "      <th>rating</th>\n",
       "      <th>timestamp</th>\n",
       "    </tr>\n",
       "  </thead>\n",
       "  <tbody>\n",
       "    <tr>\n",
       "      <th>0</th>\n",
       "      <td>A1VXOAVRGKGEAK</td>\n",
       "      <td>0439893577</td>\n",
       "      <td>5</td>\n",
       "      <td>1390953600</td>\n",
       "    </tr>\n",
       "    <tr>\n",
       "      <th>1</th>\n",
       "      <td>A8R62G708TSCM</td>\n",
       "      <td>0439893577</td>\n",
       "      <td>4</td>\n",
       "      <td>1395964800</td>\n",
       "    </tr>\n",
       "    <tr>\n",
       "      <th>2</th>\n",
       "      <td>A21KH420DK0ICA</td>\n",
       "      <td>0439893577</td>\n",
       "      <td>5</td>\n",
       "      <td>1359331200</td>\n",
       "    </tr>\n",
       "    <tr>\n",
       "      <th>3</th>\n",
       "      <td>AR29QK6HPFYZ4</td>\n",
       "      <td>0439893577</td>\n",
       "      <td>5</td>\n",
       "      <td>1391817600</td>\n",
       "    </tr>\n",
       "    <tr>\n",
       "      <th>4</th>\n",
       "      <td>ACCH8EOML6FN5</td>\n",
       "      <td>0439893577</td>\n",
       "      <td>4</td>\n",
       "      <td>1399248000</td>\n",
       "    </tr>\n",
       "  </tbody>\n",
       "</table>\n",
       "</div>"
      ],
      "text/plain": [
       "              uid         iid  rating   timestamp\n",
       "0  A1VXOAVRGKGEAK  0439893577       5  1390953600\n",
       "1   A8R62G708TSCM  0439893577       4  1395964800\n",
       "2  A21KH420DK0ICA  0439893577       5  1359331200\n",
       "3   AR29QK6HPFYZ4  0439893577       5  1391817600\n",
       "4   ACCH8EOML6FN5  0439893577       4  1399248000"
      ]
     },
     "execution_count": 181,
     "metadata": {},
     "output_type": "execute_result"
    }
   ],
   "source": [
    "dataset.head()"
   ]
  },
  {
   "cell_type": "code",
   "execution_count": 182,
   "metadata": {},
   "outputs": [
    {
     "data": {
      "text/plain": [
       "Index(['uid', 'iid', 'rating', 'timestamp'], dtype='object')"
      ]
     },
     "execution_count": 182,
     "metadata": {},
     "output_type": "execute_result"
    }
   ],
   "source": [
    "# what columns or attributes the dataset is included?\n",
    "dataset.columns"
   ]
  },
  {
   "cell_type": "code",
   "execution_count": 183,
   "metadata": {},
   "outputs": [
    {
     "name": "stdout",
     "output_type": "stream",
     "text": [
      "Original dataset statistics: \n",
      "> No. of users: 19412\n",
      "> No. of Items: 11924\n",
      "> No. of Interaction: 167597\n"
     ]
    }
   ],
   "source": [
    "# statistics on explicit dataset\n",
    "print(\"Original dataset statistics: \")\n",
    "print(f\"> No. of users: {len(dataset['uid'].unique())}\")\n",
    "print(f\"> No. of Items: {len(dataset['iid'].unique())}\")\n",
    "print(f\"> No. of Interaction: {dataset.shape[0]}\")"
   ]
  },
  {
   "cell_type": "code",
   "execution_count": 184,
   "metadata": {},
   "outputs": [
    {
     "data": {
      "text/plain": [
       "5    102790\n",
       "4     37445\n",
       "3     16357\n",
       "2      6298\n",
       "1      4707\n",
       "Name: rating, dtype: int64"
      ]
     },
     "execution_count": 184,
     "metadata": {},
     "output_type": "execute_result"
    }
   ],
   "source": [
    "# checking the number of times in which a rating happened - (0: implicit, 1-10: explicit)\n",
    "dataset['rating'].value_counts()"
   ]
  },
  {
   "cell_type": "code",
   "execution_count": 185,
   "metadata": {},
   "outputs": [],
   "source": [
    "# This method return a dataframe in which the specified values are removed from a specific column. We can use it to generate the implicit/explicit dataset.\n",
    "# To do this, we can remove the 0 or 1-10 values from the `Book-Rating` column.\n",
    "def filter_rows_by_values(df, col, values):\n",
    "    return df[~df[col].isin(values)]"
   ]
  },
  {
   "cell_type": "code",
   "execution_count": 186,
   "metadata": {},
   "outputs": [],
   "source": [
    "# To remove the users with fewer than 5 interaction we first count the number of interactino per user and add a new column (`Count`) in the dataframe.\n",
    "# This column shows the number of interaction per user in the dataset\n",
    "users_counts = dataset['uid'].value_counts()\n",
    "users_counts = users_counts.to_dict() #converts to dictionary\n",
    "dataset['count'] = dataset['uid'].map(users_counts)"
   ]
  },
  {
   "cell_type": "markdown",
   "metadata": {},
   "source": [
    "### Iteratively remove users and items with fewer than `ds_rate` interactions"
   ]
  },
  {
   "cell_type": "code",
   "execution_count": 187,
   "metadata": {},
   "outputs": [
    {
     "name": "stdout",
     "output_type": "stream",
     "text": [
      "The current number of user and item with < 7 interactions: \n",
      "No. of users < 7 ineractions: 10401\n",
      "No. of items < 7 ineractions: 6910\n",
      "The current number of user and item with < 7 interactions: \n",
      "No. of users < 7 ineractions: 3924\n",
      "No. of items < 7 ineractions: 1690\n",
      "The current number of user and item with < 7 interactions: \n",
      "No. of users < 7 ineractions: 1304\n",
      "No. of items < 7 ineractions: 612\n",
      "The current number of user and item with < 7 interactions: \n",
      "No. of users < 7 ineractions: 578\n",
      "No. of items < 7 ineractions: 333\n",
      "The current number of user and item with < 7 interactions: \n",
      "No. of users < 7 ineractions: 343\n",
      "No. of items < 7 ineractions: 190\n",
      "The current number of user and item with < 7 interactions: \n",
      "No. of users < 7 ineractions: 193\n",
      "No. of items < 7 ineractions: 102\n",
      "The current number of user and item with < 7 interactions: \n",
      "No. of users < 7 ineractions: 98\n",
      "No. of items < 7 ineractions: 59\n",
      "The current number of user and item with < 7 interactions: \n",
      "No. of users < 7 ineractions: 64\n",
      "No. of items < 7 ineractions: 37\n",
      "The current number of user and item with < 7 interactions: \n",
      "No. of users < 7 ineractions: 44\n",
      "No. of items < 7 ineractions: 30\n",
      "The current number of user and item with < 7 interactions: \n",
      "No. of users < 7 ineractions: 40\n",
      "No. of items < 7 ineractions: 23\n",
      "The current number of user and item with < 7 interactions: \n",
      "No. of users < 7 ineractions: 27\n",
      "No. of items < 7 ineractions: 22\n",
      "The current number of user and item with < 7 interactions: \n",
      "No. of users < 7 ineractions: 34\n",
      "No. of items < 7 ineractions: 20\n",
      "The current number of user and item with < 7 interactions: \n",
      "No. of users < 7 ineractions: 27\n",
      "No. of items < 7 ineractions: 17\n",
      "The current number of user and item with < 7 interactions: \n",
      "No. of users < 7 ineractions: 16\n",
      "No. of items < 7 ineractions: 13\n",
      "The current number of user and item with < 7 interactions: \n",
      "No. of users < 7 ineractions: 16\n",
      "No. of items < 7 ineractions: 16\n",
      "The current number of user and item with < 7 interactions: \n",
      "No. of users < 7 ineractions: 20\n",
      "No. of items < 7 ineractions: 13\n",
      "The current number of user and item with < 7 interactions: \n",
      "No. of users < 7 ineractions: 15\n",
      "No. of items < 7 ineractions: 9\n",
      "The current number of user and item with < 7 interactions: \n",
      "No. of users < 7 ineractions: 9\n",
      "No. of items < 7 ineractions: 8\n",
      "The current number of user and item with < 7 interactions: \n",
      "No. of users < 7 ineractions: 11\n",
      "No. of items < 7 ineractions: 7\n",
      "The current number of user and item with < 7 interactions: \n",
      "No. of users < 7 ineractions: 12\n",
      "No. of items < 7 ineractions: 9\n",
      "The current number of user and item with < 7 interactions: \n",
      "No. of users < 7 ineractions: 7\n",
      "No. of items < 7 ineractions: 5\n",
      "The current number of user and item with < 7 interactions: \n",
      "No. of users < 7 ineractions: 5\n",
      "No. of items < 7 ineractions: 5\n",
      "The current number of user and item with < 7 interactions: \n",
      "No. of users < 7 ineractions: 5\n",
      "No. of items < 7 ineractions: 4\n",
      "The current number of user and item with < 7 interactions: \n",
      "No. of users < 7 ineractions: 5\n",
      "No. of items < 7 ineractions: 4\n",
      "The current number of user and item with < 7 interactions: \n",
      "No. of users < 7 ineractions: 8\n",
      "No. of items < 7 ineractions: 6\n",
      "The current number of user and item with < 7 interactions: \n",
      "No. of users < 7 ineractions: 8\n",
      "No. of items < 7 ineractions: 7\n",
      "The current number of user and item with < 7 interactions: \n",
      "No. of users < 7 ineractions: 8\n",
      "No. of items < 7 ineractions: 4\n",
      "The current number of user and item with < 7 interactions: \n",
      "No. of users < 7 ineractions: 2\n",
      "No. of items < 7 ineractions: 2\n",
      "The current number of user and item with < 7 interactions: \n",
      "No. of users < 7 ineractions: 2\n",
      "No. of items < 7 ineractions: 0\n",
      "The current number of user and item with < 7 interactions: \n",
      "No. of users < 7 ineractions: 0\n",
      "No. of items < 7 ineractions: 0\n"
     ]
    }
   ],
   "source": [
    "user_interaction, item_interaction = 1, 1\n",
    "\n",
    "while user_interaction != 0 or item_interaction != 0:\n",
    "    print(f\"The current number of user and item with < {ds[ds_config]['ds_core']} interactions: \")\n",
    "    # user side fewer than ds['ds_core'] cheking\n",
    "    uid_value_counts = dataset['uid'].value_counts()\n",
    "    user_interaction = uid_value_counts[uid_value_counts < ds[ds_config]['ds_core']].count()\n",
    "    print(f\"No. of users < {ds[ds_config]['ds_core']} ineractions: {user_interaction}\")\n",
    "\n",
    "    users_counts = dataset['uid'].value_counts()\n",
    "    users_counts = users_counts.to_dict() #converts to dictionary\n",
    "    dataset['count'] = dataset['uid'].map(users_counts)\n",
    "\n",
    "    dataset = filter_rows_by_values(dataset, \"count\", list(range(ds[ds_config]['ds_core'])))\n",
    "\n",
    "    # item side fewer than ds_rate cheking\n",
    "    bid_value_counts = dataset['iid'].value_counts()\n",
    "    item_interaction = bid_value_counts[bid_value_counts < ds[ds_config]['ds_core']].count()\n",
    "    print(f\"No. of items < {ds[ds_config]['ds_core']} ineractions: {item_interaction}\")\n",
    "\n",
    "    items_counts = dataset['iid'].value_counts()\n",
    "    items_counts = items_counts.to_dict() #converts to dictionary\n",
    "    dataset['count'] = dataset['iid'].map(items_counts)\n",
    "\n",
    "    dataset = filter_rows_by_values(dataset, \"count\", list(range(ds[ds_config]['ds_core'])))"
   ]
  },
  {
   "cell_type": "code",
   "execution_count": 188,
   "metadata": {},
   "outputs": [
    {
     "name": "stdout",
     "output_type": "stream",
     "text": [
      "No. of users: 2170\n",
      "No. of Items: 1733\n",
      "No. of Interaction: 32852\n"
     ]
    }
   ],
   "source": [
    "# statistics on 5 rate explicit dataset (after pre-processing)\n",
    "print(f\"No. of users: {len(dataset['uid'].unique())}\")\n",
    "print(f\"No. of Items: {len(dataset['iid'].unique())}\")\n",
    "print(f\"No. of Interaction: {dataset.shape[0]}\")"
   ]
  },
  {
   "cell_type": "code",
   "execution_count": 189,
   "metadata": {},
   "outputs": [],
   "source": [
    "# Before we save the preprocessed explicit dataset (5Rate) we first remove the added column which is `Count`\n",
    "del dataset['count']\n",
    "if 'timestamp' in ds[ds_config]['ds_names']:\n",
    "    del dataset['timestamp']"
   ]
  },
  {
   "cell_type": "markdown",
   "metadata": {},
   "source": [
    "### User and Item ID Mapping"
   ]
  },
  {
   "cell_type": "code",
   "execution_count": 190,
   "metadata": {},
   "outputs": [
    {
     "name": "stderr",
     "output_type": "stream",
     "text": [
      "32852it [00:04, 7674.75it/s]\n"
     ]
    }
   ],
   "source": [
    "uid_to_index = dict()\n",
    "iid_to_index = dict()\n",
    "\n",
    "last_user_id = 0\n",
    "last_item_id = 0\n",
    "\n",
    "for eachline in tqdm(dataset.iterrows()):\n",
    "  # add a new user id with an index\n",
    "  if eachline[1][0] not in uid_to_index.keys():\n",
    "    uid_to_index[eachline[1][0]] = last_user_id\n",
    "    last_user_id += 1\n",
    "  # add a new book id with an index\n",
    "  if eachline[1][1] not in iid_to_index.keys():\n",
    "    iid_to_index[eachline[1][1]] = last_item_id\n",
    "    last_item_id += 1"
   ]
  },
  {
   "cell_type": "code",
   "execution_count": 191,
   "metadata": {},
   "outputs": [
    {
     "name": "stderr",
     "output_type": "stream",
     "text": [
      "32852it [00:05, 5999.91it/s]\n"
     ]
    }
   ],
   "source": [
    "# write the file with new mapped indices into a txt file\n",
    "# mapped_dataset = open(f\"datasets/{ds['ds_name']}/{ds['ds_name']}_data.csv\", 'w')\n",
    "mapped_dataset_txt = open(f\"datasets/{ds[ds_config]['ds_name']}/{ds[ds_config]['ds_name']}_data.txt\", 'w')\n",
    "# mapped_dataset.write('uid' + ',' + 'bid' + ',' + 'rating' + '\\n')\n",
    "\n",
    "for eachline in tqdm(dataset.iterrows()):\n",
    "    # mapped_dataset.write(str(uid_to_index[eachline[1][0]]) + \",\" + str(iid_to_index[eachline[1][1]]) + \",\" + str(eachline[1][2]) + \"\\n\")\n",
    "    mapped_dataset_txt.write(str(uid_to_index[eachline[1][0]]) + \",\" + str(iid_to_index[eachline[1][1]]) + \",\" + str(eachline[1][2]) + \"\\n\")\n",
    "# mapped_dataset.close()\n",
    "mapped_dataset_txt.close()"
   ]
  },
  {
   "cell_type": "code",
   "execution_count": null,
   "metadata": {},
   "outputs": [],
   "source": []
  }
 ],
 "metadata": {
  "interpreter": {
   "hash": "0adcc2737ebf6a4a119f135174df96668767fca1ef1112612db5ecadf2b6d608"
  },
  "kernelspec": {
   "display_name": "Python 3.8.0 64-bit",
   "language": "python",
   "name": "python3"
  },
  "language_info": {
   "codemirror_mode": {
    "name": "ipython",
    "version": 3
   },
   "file_extension": ".py",
   "mimetype": "text/x-python",
   "name": "python",
   "nbconvert_exporter": "python",
   "pygments_lexer": "ipython3",
   "version": "3.8.0"
  },
  "orig_nbformat": 4
 },
 "nbformat": 4,
 "nbformat_minor": 2
}
