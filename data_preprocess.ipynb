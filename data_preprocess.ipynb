{
 "cells": [
  {
   "cell_type": "code",
   "execution_count": 413,
   "metadata": {},
   "outputs": [],
   "source": [
    "# importing required pakcages\n",
    "import pandas as pd\n",
    "from tqdm import tqdm\n",
    "import yaml"
   ]
  },
  {
   "cell_type": "code",
   "execution_count": 414,
   "metadata": {},
   "outputs": [],
   "source": [
    "def read_yaml(file_path):\n",
    "    with open(file_path, \"r\") as f:\n",
    "        return yaml.safe_load(f)\n",
    "\n",
    "ds = read_yaml(file_path = \"configs.yaml\")"
   ]
  },
  {
   "cell_type": "code",
   "execution_count": 415,
   "metadata": {},
   "outputs": [],
   "source": [
    "ds_config = \"Foursquare\""
   ]
  },
  {
   "cell_type": "code",
   "execution_count": 416,
   "metadata": {},
   "outputs": [],
   "source": [
    "dataset = pd.read_csv(f\"datasets/{ds[ds_config]['ds_name']}/ratings_data.txt\", sep=ds[ds_config]['ds_sep'], names=ds[ds_config]['ds_names'])"
   ]
  },
  {
   "cell_type": "code",
   "execution_count": 417,
   "metadata": {},
   "outputs": [
    {
     "data": {
      "text/html": [
       "<div>\n",
       "<style scoped>\n",
       "    .dataframe tbody tr th:only-of-type {\n",
       "        vertical-align: middle;\n",
       "    }\n",
       "\n",
       "    .dataframe tbody tr th {\n",
       "        vertical-align: top;\n",
       "    }\n",
       "\n",
       "    .dataframe thead th {\n",
       "        text-align: right;\n",
       "    }\n",
       "</style>\n",
       "<table border=\"1\" class=\"dataframe\">\n",
       "  <thead>\n",
       "    <tr style=\"text-align: right;\">\n",
       "      <th></th>\n",
       "      <th>uid</th>\n",
       "      <th>iid</th>\n",
       "      <th>rating</th>\n",
       "    </tr>\n",
       "  </thead>\n",
       "  <tbody>\n",
       "    <tr>\n",
       "      <th>0</th>\n",
       "      <td>0</td>\n",
       "      <td>0</td>\n",
       "      <td>1</td>\n",
       "    </tr>\n",
       "    <tr>\n",
       "      <th>1</th>\n",
       "      <td>0</td>\n",
       "      <td>14</td>\n",
       "      <td>1</td>\n",
       "    </tr>\n",
       "    <tr>\n",
       "      <th>2</th>\n",
       "      <td>0</td>\n",
       "      <td>7</td>\n",
       "      <td>2</td>\n",
       "    </tr>\n",
       "    <tr>\n",
       "      <th>3</th>\n",
       "      <td>0</td>\n",
       "      <td>3</td>\n",
       "      <td>1</td>\n",
       "    </tr>\n",
       "    <tr>\n",
       "      <th>4</th>\n",
       "      <td>0</td>\n",
       "      <td>6</td>\n",
       "      <td>4</td>\n",
       "    </tr>\n",
       "  </tbody>\n",
       "</table>\n",
       "</div>"
      ],
      "text/plain": [
       "   uid  iid  rating\n",
       "0    0    0       1\n",
       "1    0   14       1\n",
       "2    0    7       2\n",
       "3    0    3       1\n",
       "4    0    6       4"
      ]
     },
     "execution_count": 417,
     "metadata": {},
     "output_type": "execute_result"
    }
   ],
   "source": [
    "dataset.head()"
   ]
  },
  {
   "cell_type": "code",
   "execution_count": 418,
   "metadata": {},
   "outputs": [
    {
     "data": {
      "text/plain": [
       "Index(['uid', 'iid', 'rating'], dtype='object')"
      ]
     },
     "execution_count": 418,
     "metadata": {},
     "output_type": "execute_result"
    }
   ],
   "source": [
    "# what columns or attributes the dataset is included?\n",
    "dataset.columns"
   ]
  },
  {
   "cell_type": "code",
   "execution_count": 419,
   "metadata": {},
   "outputs": [
    {
     "name": "stdout",
     "output_type": "stream",
     "text": [
      "Original dataset statistics: \n",
      "> No. of users: 7642\n",
      "> No. of Items: 28483\n",
      "> No. of Interaction: 277405\n"
     ]
    }
   ],
   "source": [
    "# statistics on explicit dataset\n",
    "print(\"Original dataset statistics: \")\n",
    "print(f\"> No. of users: {len(dataset['uid'].unique())}\")\n",
    "print(f\"> No. of Items: {len(dataset['iid'].unique())}\")\n",
    "print(f\"> No. of Interaction: {dataset.shape[0]}\")"
   ]
  },
  {
   "cell_type": "code",
   "execution_count": 420,
   "metadata": {},
   "outputs": [
    {
     "data": {
      "text/plain": [
       "1      212552\n",
       "2       34320\n",
       "3       11712\n",
       "4        5516\n",
       "5        3190\n",
       "        ...  \n",
       "132         1\n",
       "136         1\n",
       "137         1\n",
       "138         1\n",
       "235         1\n",
       "Name: rating, Length: 153, dtype: int64"
      ]
     },
     "execution_count": 420,
     "metadata": {},
     "output_type": "execute_result"
    }
   ],
   "source": [
    "# checking the number of times in which a rating happened - (0: implicit, 1-10: explicit)\n",
    "dataset['rating'].value_counts()"
   ]
  },
  {
   "cell_type": "code",
   "execution_count": 421,
   "metadata": {},
   "outputs": [],
   "source": [
    "# This method return a dataframe in which the specified values are removed from a specific column. We can use it to generate the implicit/explicit dataset.\n",
    "# To do this, we can remove the 0 or 1-10 values from the `Book-Rating` column.\n",
    "def filter_rows_by_values(df, col, values):\n",
    "    return df[~df[col].isin(values)]"
   ]
  },
  {
   "cell_type": "code",
   "execution_count": 422,
   "metadata": {},
   "outputs": [],
   "source": [
    "# To remove the users with fewer than 5 interaction we first count the number of interactino per user and add a new column (`Count`) in the dataframe.\n",
    "# This column shows the number of interaction per user in the dataset\n",
    "users_counts = dataset['uid'].value_counts()\n",
    "users_counts = users_counts.to_dict() #converts to dictionary\n",
    "dataset['count'] = dataset['uid'].map(users_counts)"
   ]
  },
  {
   "cell_type": "markdown",
   "metadata": {},
   "source": [
    "### Iteratively remove users and items with fewer than `ds_rate` interactions"
   ]
  },
  {
   "cell_type": "code",
   "execution_count": 423,
   "metadata": {},
   "outputs": [
    {
     "name": "stdout",
     "output_type": "stream",
     "text": [
      "The current number of user and item with < 14 interactions: \n",
      "No. of users < 14 ineractions: 844\n",
      "No. of items < 14 ineractions: 24199\n",
      "The current number of user and item with < 14 interactions: \n",
      "No. of users < 14 ineractions: 3262\n",
      "No. of items < 14 ineractions: 1402\n",
      "The current number of user and item with < 14 interactions: \n",
      "No. of users < 14 ineractions: 774\n",
      "No. of items < 14 ineractions: 494\n",
      "The current number of user and item with < 14 interactions: \n",
      "No. of users < 14 ineractions: 371\n",
      "No. of items < 14 ineractions: 261\n",
      "The current number of user and item with < 14 interactions: \n",
      "No. of users < 14 ineractions: 206\n",
      "No. of items < 14 ineractions: 162\n",
      "The current number of user and item with < 14 interactions: \n",
      "No. of users < 14 ineractions: 111\n",
      "No. of items < 14 ineractions: 74\n",
      "The current number of user and item with < 14 interactions: \n",
      "No. of users < 14 ineractions: 69\n",
      "No. of items < 14 ineractions: 54\n",
      "The current number of user and item with < 14 interactions: \n",
      "No. of users < 14 ineractions: 57\n",
      "No. of items < 14 ineractions: 60\n",
      "The current number of user and item with < 14 interactions: \n",
      "No. of users < 14 ineractions: 55\n",
      "No. of items < 14 ineractions: 46\n",
      "The current number of user and item with < 14 interactions: \n",
      "No. of users < 14 ineractions: 62\n",
      "No. of items < 14 ineractions: 60\n",
      "The current number of user and item with < 14 interactions: \n",
      "No. of users < 14 ineractions: 72\n",
      "No. of items < 14 ineractions: 68\n",
      "The current number of user and item with < 14 interactions: \n",
      "No. of users < 14 ineractions: 71\n",
      "No. of items < 14 ineractions: 55\n",
      "The current number of user and item with < 14 interactions: \n",
      "No. of users < 14 ineractions: 54\n",
      "No. of items < 14 ineractions: 29\n",
      "The current number of user and item with < 14 interactions: \n",
      "No. of users < 14 ineractions: 16\n",
      "No. of items < 14 ineractions: 7\n",
      "The current number of user and item with < 14 interactions: \n",
      "No. of users < 14 ineractions: 8\n",
      "No. of items < 14 ineractions: 5\n",
      "The current number of user and item with < 14 interactions: \n",
      "No. of users < 14 ineractions: 4\n",
      "No. of items < 14 ineractions: 2\n",
      "The current number of user and item with < 14 interactions: \n",
      "No. of users < 14 ineractions: 0\n",
      "No. of items < 14 ineractions: 0\n"
     ]
    }
   ],
   "source": [
    "user_interaction, item_interaction = 1, 1\n",
    "\n",
    "while user_interaction != 0 or item_interaction != 0:\n",
    "    print(f\"The current number of user and item with < {ds[ds_config]['ds_core']} interactions: \")\n",
    "    # user side fewer than ds['ds_core'] cheking\n",
    "    uid_value_counts = dataset['uid'].value_counts()\n",
    "    user_interaction = uid_value_counts[uid_value_counts < ds[ds_config]['ds_core']].count()\n",
    "    print(f\"No. of users < {ds[ds_config]['ds_core']} ineractions: {user_interaction}\")\n",
    "\n",
    "    users_counts = dataset['uid'].value_counts()\n",
    "    users_counts = users_counts.to_dict() #converts to dictionary\n",
    "    dataset['count'] = dataset['uid'].map(users_counts)\n",
    "\n",
    "    dataset = filter_rows_by_values(dataset, \"count\", list(range(ds[ds_config]['ds_core'])))\n",
    "\n",
    "    # item side fewer than ds_rate cheking\n",
    "    bid_value_counts = dataset['iid'].value_counts()\n",
    "    item_interaction = bid_value_counts[bid_value_counts < ds[ds_config]['ds_core']].count()\n",
    "    print(f\"No. of items < {ds[ds_config]['ds_core']} ineractions: {item_interaction}\")\n",
    "\n",
    "    items_counts = dataset['iid'].value_counts()\n",
    "    items_counts = items_counts.to_dict() #converts to dictionary\n",
    "    dataset['count'] = dataset['iid'].map(items_counts)\n",
    "\n",
    "    dataset = filter_rows_by_values(dataset, \"count\", list(range(ds[ds_config]['ds_core'])))"
   ]
  },
  {
   "cell_type": "code",
   "execution_count": 424,
   "metadata": {},
   "outputs": [
    {
     "name": "stdout",
     "output_type": "stream",
     "text": [
      "No. of users: 1568\n",
      "No. of Items: 1461\n",
      "No. of Interaction: 42678\n"
     ]
    }
   ],
   "source": [
    "# statistics on 5 rate explicit dataset (after pre-processing)\n",
    "print(f\"No. of users: {len(dataset['uid'].unique())}\")\n",
    "print(f\"No. of Items: {len(dataset['iid'].unique())}\")\n",
    "print(f\"No. of Interaction: {dataset.shape[0]}\")"
   ]
  },
  {
   "cell_type": "code",
   "execution_count": 425,
   "metadata": {},
   "outputs": [],
   "source": [
    "# Before we save the preprocessed explicit dataset (5Rate) we first remove the added column which is `Count`\n",
    "del dataset['count']\n",
    "if 'timestamp' in ds[ds_config]['ds_names']:\n",
    "    del dataset['timestamp']"
   ]
  },
  {
   "cell_type": "markdown",
   "metadata": {},
   "source": [
    "### User and Item ID Mapping"
   ]
  },
  {
   "cell_type": "code",
   "execution_count": 426,
   "metadata": {},
   "outputs": [
    {
     "name": "stderr",
     "output_type": "stream",
     "text": [
      "42678it [00:06, 6099.66it/s]\n"
     ]
    }
   ],
   "source": [
    "uid_to_index = dict()\n",
    "iid_to_index = dict()\n",
    "\n",
    "last_user_id = 0\n",
    "last_item_id = 0\n",
    "\n",
    "for eachline in tqdm(dataset.iterrows()):\n",
    "  # add a new user id with an index\n",
    "  if eachline[1][0] not in uid_to_index.keys():\n",
    "    uid_to_index[eachline[1][0]] = last_user_id\n",
    "    last_user_id += 1\n",
    "  # add a new book id with an index\n",
    "  if eachline[1][1] not in iid_to_index.keys():\n",
    "    iid_to_index[eachline[1][1]] = last_item_id\n",
    "    last_item_id += 1"
   ]
  },
  {
   "cell_type": "code",
   "execution_count": 427,
   "metadata": {},
   "outputs": [
    {
     "name": "stderr",
     "output_type": "stream",
     "text": [
      "42678it [00:05, 7628.54it/s]\n"
     ]
    }
   ],
   "source": [
    "# write the file with new mapped indices into a txt file\n",
    "mapped_dataset_txt = open(f\"datasets/{ds[ds_config]['ds_name']}/{ds[ds_config]['ds_name']}_data.txt\", 'w')\n",
    "\n",
    "for eachline in tqdm(dataset.iterrows()):\n",
    "    mapped_dataset_txt.write(str(uid_to_index[eachline[1][0]]) + \",\" + str(iid_to_index[eachline[1][1]]) + \",\" + str(eachline[1][2]) + \"\\n\")\n",
    "mapped_dataset_txt.close()"
   ]
  },
  {
   "cell_type": "code",
   "execution_count": null,
   "metadata": {},
   "outputs": [],
   "source": []
  }
 ],
 "metadata": {
  "interpreter": {
   "hash": "0adcc2737ebf6a4a119f135174df96668767fca1ef1112612db5ecadf2b6d608"
  },
  "kernelspec": {
   "display_name": "Python 3.8.0 64-bit",
   "language": "python",
   "name": "python3"
  },
  "language_info": {
   "codemirror_mode": {
    "name": "ipython",
    "version": 3
   },
   "file_extension": ".py",
   "mimetype": "text/x-python",
   "name": "python",
   "nbconvert_exporter": "python",
   "pygments_lexer": "ipython3",
   "version": "3.8.0"
  },
  "orig_nbformat": 4
 },
 "nbformat": 4,
 "nbformat_minor": 2
}
