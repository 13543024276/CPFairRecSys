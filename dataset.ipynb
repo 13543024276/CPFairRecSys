{
 "cells": [
  {
   "cell_type": "code",
   "execution_count": 99,
   "metadata": {},
   "outputs": [],
   "source": [
    "# importing required pakcages\n",
    "import pandas as pd\n",
    "from tqdm import tqdm"
   ]
  },
  {
   "cell_type": "code",
   "execution_count": 150,
   "metadata": {},
   "outputs": [],
   "source": [
    "ds_name = 'CiteULike'\n",
    "ds_rate = 10\n",
    "ds_sep = '\\t'"
   ]
  },
  {
   "cell_type": "code",
   "execution_count": 151,
   "metadata": {},
   "outputs": [],
   "source": [
    "dataset = pd.read_csv(f\"datasets/{ds_name}/ratings_data.txt\", sep=ds_sep, names=['uid', 'iid', 'rating'])"
   ]
  },
  {
   "cell_type": "code",
   "execution_count": 152,
   "metadata": {},
   "outputs": [
    {
     "data": {
      "text/html": [
       "<div>\n",
       "<style scoped>\n",
       "    .dataframe tbody tr th:only-of-type {\n",
       "        vertical-align: middle;\n",
       "    }\n",
       "\n",
       "    .dataframe tbody tr th {\n",
       "        vertical-align: top;\n",
       "    }\n",
       "\n",
       "    .dataframe thead th {\n",
       "        text-align: right;\n",
       "    }\n",
       "</style>\n",
       "<table border=\"1\" class=\"dataframe\">\n",
       "  <thead>\n",
       "    <tr style=\"text-align: right;\">\n",
       "      <th></th>\n",
       "      <th>uid</th>\n",
       "      <th>iid</th>\n",
       "      <th>rating</th>\n",
       "    </tr>\n",
       "  </thead>\n",
       "  <tbody>\n",
       "    <tr>\n",
       "      <th>0</th>\n",
       "      <td>1</td>\n",
       "      <td>70</td>\n",
       "      <td>1.0</td>\n",
       "    </tr>\n",
       "    <tr>\n",
       "      <th>1</th>\n",
       "      <td>1</td>\n",
       "      <td>495</td>\n",
       "      <td>1.0</td>\n",
       "    </tr>\n",
       "    <tr>\n",
       "      <th>2</th>\n",
       "      <td>1</td>\n",
       "      <td>1631</td>\n",
       "      <td>1.0</td>\n",
       "    </tr>\n",
       "    <tr>\n",
       "      <th>3</th>\n",
       "      <td>1</td>\n",
       "      <td>2317</td>\n",
       "      <td>1.0</td>\n",
       "    </tr>\n",
       "    <tr>\n",
       "      <th>4</th>\n",
       "      <td>1</td>\n",
       "      <td>2526</td>\n",
       "      <td>1.0</td>\n",
       "    </tr>\n",
       "  </tbody>\n",
       "</table>\n",
       "</div>"
      ],
      "text/plain": [
       "   uid   iid  rating\n",
       "0    1    70     1.0\n",
       "1    1   495     1.0\n",
       "2    1  1631     1.0\n",
       "3    1  2317     1.0\n",
       "4    1  2526     1.0"
      ]
     },
     "execution_count": 152,
     "metadata": {},
     "output_type": "execute_result"
    }
   ],
   "source": [
    "dataset.head()"
   ]
  },
  {
   "cell_type": "code",
   "execution_count": 153,
   "metadata": {},
   "outputs": [
    {
     "data": {
      "text/plain": [
       "Index(['uid', 'iid', 'rating'], dtype='object')"
      ]
     },
     "execution_count": 153,
     "metadata": {},
     "output_type": "execute_result"
    }
   ],
   "source": [
    "# what columns or attributes the dataset is included?\n",
    "dataset.columns"
   ]
  },
  {
   "cell_type": "code",
   "execution_count": 154,
   "metadata": {},
   "outputs": [
    {
     "name": "stdout",
     "output_type": "stream",
     "text": [
      "Original dataset statistics: \n",
      "> No. of users: 5551\n",
      "> No. of Items: 16980\n",
      "> No. of Interaction: 210537\n"
     ]
    }
   ],
   "source": [
    "# statistics on explicit dataset\n",
    "print(\"Original dataset statistics: \")\n",
    "print(f\"> No. of users: {len(dataset['uid'].unique())}\")\n",
    "print(f\"> No. of Items: {len(dataset['iid'].unique())}\")\n",
    "print(f\"> No. of Interaction: {dataset.shape[0]}\")"
   ]
  },
  {
   "cell_type": "code",
   "execution_count": 155,
   "metadata": {},
   "outputs": [
    {
     "data": {
      "text/plain": [
       "1.0    210537\n",
       "Name: rating, dtype: int64"
      ]
     },
     "execution_count": 155,
     "metadata": {},
     "output_type": "execute_result"
    }
   ],
   "source": [
    "# checking the number of times in which a rating happened - (0: implicit, 1-10: explicit)\n",
    "dataset['rating'].value_counts()"
   ]
  },
  {
   "cell_type": "code",
   "execution_count": 156,
   "metadata": {},
   "outputs": [],
   "source": [
    "# This method return a dataframe in which the specified values are removed from a specific column. We can use it to generate the implicit/explicit dataset.\n",
    "# To do this, we can remove the 0 or 1-10 values from the `Book-Rating` column.\n",
    "def filter_rows_by_values(df, col, values):\n",
    "    return df[~df[col].isin(values)]"
   ]
  },
  {
   "cell_type": "code",
   "execution_count": 157,
   "metadata": {},
   "outputs": [],
   "source": [
    "# To remove the users with fewer than 5 interaction we first count the number of interactino per user and add a new column (`Count`) in the dataframe.\n",
    "# This column shows the number of interaction per user in the dataset\n",
    "users_counts = dataset['uid'].value_counts()\n",
    "users_counts = users_counts.to_dict() #converts to dictionary\n",
    "dataset['count'] = dataset['uid'].map(users_counts)"
   ]
  },
  {
   "cell_type": "markdown",
   "metadata": {},
   "source": [
    "### Iteratively remove users and items with fewer than `ds_rate` interactions"
   ]
  },
  {
   "cell_type": "code",
   "execution_count": 158,
   "metadata": {},
   "outputs": [
    {
     "name": "stdout",
     "output_type": "stream",
     "text": [
      "The current number of user and item with < 10 interactions: \n",
      "No. of users < 10 ineractions: 0\n",
      "No. of items < 10 ineractions: 9086\n",
      "The current number of user and item with < 10 interactions: \n",
      "No. of users < 10 ineractions: 1103\n",
      "No. of items < 10 ineractions: 736\n",
      "The current number of user and item with < 10 interactions: \n",
      "No. of users < 10 ineractions: 224\n",
      "No. of items < 10 ineractions: 178\n",
      "The current number of user and item with < 10 interactions: \n",
      "No. of users < 10 ineractions: 67\n",
      "No. of items < 10 ineractions: 45\n",
      "The current number of user and item with < 10 interactions: \n",
      "No. of users < 10 ineractions: 15\n",
      "No. of items < 10 ineractions: 16\n",
      "The current number of user and item with < 10 interactions: \n",
      "No. of users < 10 ineractions: 7\n",
      "No. of items < 10 ineractions: 11\n",
      "The current number of user and item with < 10 interactions: \n",
      "No. of users < 10 ineractions: 2\n",
      "No. of items < 10 ineractions: 2\n",
      "The current number of user and item with < 10 interactions: \n",
      "No. of users < 10 ineractions: 1\n",
      "No. of items < 10 ineractions: 1\n",
      "The current number of user and item with < 10 interactions: \n",
      "No. of users < 10 ineractions: 1\n",
      "No. of items < 10 ineractions: 1\n",
      "The current number of user and item with < 10 interactions: \n",
      "No. of users < 10 ineractions: 0\n",
      "No. of items < 10 ineractions: 0\n"
     ]
    }
   ],
   "source": [
    "user_interaction, item_interaction = 1, 1\n",
    "\n",
    "while user_interaction != 0 or item_interaction != 0:\n",
    "    print(f\"The current number of user and item with < {ds_rate} interactions: \")\n",
    "    # user side fewer than ds_rate cheking\n",
    "    uid_value_counts = dataset['uid'].value_counts()\n",
    "    user_interaction = uid_value_counts[uid_value_counts < ds_rate].count()\n",
    "    print(f\"No. of users < {ds_rate} ineractions: {user_interaction}\")\n",
    "\n",
    "    users_counts = dataset['uid'].value_counts()\n",
    "    users_counts = users_counts.to_dict() #converts to dictionary\n",
    "    dataset['count'] = dataset['uid'].map(users_counts)\n",
    "\n",
    "    dataset = filter_rows_by_values(dataset, \"count\", list(range(ds_rate)))\n",
    "\n",
    "    # item side fewer than ds_rate cheking\n",
    "    bid_value_counts = dataset['iid'].value_counts()\n",
    "    item_interaction = bid_value_counts[bid_value_counts < ds_rate].count()\n",
    "    print(f\"No. of items < {ds_rate} ineractions: {item_interaction}\")\n",
    "\n",
    "    items_counts = dataset['iid'].value_counts()\n",
    "    items_counts = items_counts.to_dict() #converts to dictionary\n",
    "    dataset['count'] = dataset['iid'].map(items_counts)\n",
    "\n",
    "    dataset = filter_rows_by_values(dataset, \"count\", list(range(ds_rate)))"
   ]
  },
  {
   "cell_type": "code",
   "execution_count": 159,
   "metadata": {},
   "outputs": [
    {
     "name": "stdout",
     "output_type": "stream",
     "text": [
      "No. of users: 4131\n",
      "No. of Items: 6904\n",
      "No. of Interaction: 131967\n"
     ]
    }
   ],
   "source": [
    "# statistics on 5 rate explicit dataset (after pre-processing)\n",
    "print(f\"No. of users: {len(dataset['uid'].unique())}\")\n",
    "print(f\"No. of Items: {len(dataset['iid'].unique())}\")\n",
    "print(f\"No. of Interaction: {dataset.shape[0]}\")"
   ]
  },
  {
   "cell_type": "code",
   "execution_count": 160,
   "metadata": {},
   "outputs": [],
   "source": [
    "# Before we save the preprocessed explicit dataset (5Rate) we first remove the added column which is `Count`\n",
    "del dataset['count']\n",
    "if ds_name == 'AmazonToy':\n",
    "    del dataset['time']"
   ]
  },
  {
   "cell_type": "markdown",
   "metadata": {},
   "source": [
    "### User and Item ID Mapping"
   ]
  },
  {
   "cell_type": "code",
   "execution_count": 161,
   "metadata": {},
   "outputs": [
    {
     "name": "stderr",
     "output_type": "stream",
     "text": [
      "131967it [00:17, 7680.50it/s]\n"
     ]
    }
   ],
   "source": [
    "uid_to_index = dict()\n",
    "iid_to_index = dict()\n",
    "\n",
    "last_user_id = 0\n",
    "last_item_id = 0\n",
    "\n",
    "for eachline in tqdm(dataset.iterrows()):\n",
    "  # add a new user id with an index\n",
    "  if eachline[1][0] not in uid_to_index.keys():\n",
    "    uid_to_index[eachline[1][0]] = last_user_id\n",
    "    last_user_id += 1\n",
    "  # add a new book id with an index\n",
    "  if eachline[1][1] not in iid_to_index.keys():\n",
    "    iid_to_index[eachline[1][1]] = last_item_id\n",
    "    last_item_id += 1"
   ]
  },
  {
   "cell_type": "code",
   "execution_count": 162,
   "metadata": {},
   "outputs": [
    {
     "name": "stderr",
     "output_type": "stream",
     "text": [
      "131967it [00:37, 3509.46it/s]\n"
     ]
    }
   ],
   "source": [
    "# write the file with new mapped indices into a txt file\n",
    "mapped_dataset = open(f\"datasets/{ds_name}/{ds_name}_data.csv\", 'w')\n",
    "mapped_dataset_txt = open(f\"datasets/{ds_name}/{ds_name}_data.txt\", 'w')\n",
    "mapped_dataset.write('uid' + ',' + 'bid' + ',' + 'rating' + '\\n')\n",
    "\n",
    "for eachline in tqdm(dataset.iterrows()):\n",
    "    mapped_dataset.write(str(uid_to_index[eachline[1][0]]) + \",\" + str(iid_to_index[eachline[1][1]]) + \",\" + str(eachline[1][2]) + \"\\n\")\n",
    "    mapped_dataset_txt.write(str(uid_to_index[eachline[1][0]]) + \",\" + str(iid_to_index[eachline[1][1]]) + \",\" + str(eachline[1][2]) + \"\\n\")\n",
    "mapped_dataset.close()"
   ]
  },
  {
   "cell_type": "code",
   "execution_count": null,
   "metadata": {},
   "outputs": [],
   "source": []
  }
 ],
 "metadata": {
  "interpreter": {
   "hash": "0adcc2737ebf6a4a119f135174df96668767fca1ef1112612db5ecadf2b6d608"
  },
  "kernelspec": {
   "display_name": "Python 3.8.0 64-bit",
   "language": "python",
   "name": "python3"
  },
  "language_info": {
   "codemirror_mode": {
    "name": "ipython",
    "version": 3
   },
   "file_extension": ".py",
   "mimetype": "text/x-python",
   "name": "python",
   "nbconvert_exporter": "python",
   "pygments_lexer": "ipython3",
   "version": "3.8.0"
  },
  "orig_nbformat": 4
 },
 "nbformat": 4,
 "nbformat_minor": 2
}
